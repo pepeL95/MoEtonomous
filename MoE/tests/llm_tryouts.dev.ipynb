{
 "cells": [
  {
   "cell_type": "code",
   "execution_count": null,
   "metadata": {},
   "outputs": [],
   "source": [
    "######################################################\n",
    "import sys                                           #\n",
    "import os                                            #\n",
    "                                                     #\n",
    "sys.path.append(os.getenv('SRC'))                    #\n",
    "######################################################\n",
    "\n",
    "from JB007.toolbox.toolbox import Toolbox\n",
    "from JB007.base.ephemeral_nlp_agent import EphemeralNLPAgent\n",
    "from JB007.base.ephemeral_tool_agent import EphemeralToolAgent\n",
    "\n",
    "from dev_tools.enums.prompt_parsers import PromptParsers\n",
    "from dev_tools.enums.llms import LLMs"
   ]
  },
  {
   "cell_type": "code",
   "execution_count": null,
   "metadata": {},
   "outputs": [],
   "source": [
    "# import base64\n",
    "# import httpx\n",
    "# image_url = \"https://upload.wikimedia.org/wikipedia/commons/thumb/d/dd/Gfp-wisconsin-madison-the-nature-boardwalk.jpg/2560px-Gfp-wisconsin-madison-the-nature-boardwalk.jpg\"\n",
    "# image_data = base64.b64encode(httpx.get(image_url).content).decode(\"utf-8\")"
   ]
  },
  {
   "cell_type": "code",
   "execution_count": null,
   "metadata": {},
   "outputs": [],
   "source": [
    "agent = EphemeralNLPAgent(\n",
    "    name='_',\n",
    "    llm=LLMs.Phi35(),\n",
    "    prompt_template=(\n",
    "        \"## Instructions\\n\"\n",
    "        \"You are a master at coding\\n\\n\"\n",
    "        \"## Input\\n\"\n",
    "        \"{input}\"\n",
    "        ),\n",
    "    prompt_parser=PromptParsers.Phi35(),\n",
    ")"
   ]
  },
  {
   "cell_type": "code",
   "execution_count": null,
   "metadata": {},
   "outputs": [],
   "source": [
    "message = {\"input\": \"\"\"\\\n",
    "split a python string by the last instance of a word using rsplit\"\"\"}\n",
    "for token in agent.stream(message):\n",
    "    print(token, flush=True, end='')"
   ]
  },
  {
   "cell_type": "code",
   "execution_count": null,
   "metadata": {},
   "outputs": [],
   "source": [
    "from markitdown import MarkItDown\n",
    "\n",
    "md = MarkItDown()\n",
    "result = md.convert_local(\"/Users/pepelopez/Documents/Learning/Genai/Papers/openelm.pdf\")\n"
   ]
  },
  {
   "cell_type": "code",
   "execution_count": null,
   "metadata": {},
   "outputs": [],
   "source": [
    "print(result.text_content)"
   ]
  },
  {
   "cell_type": "code",
   "execution_count": null,
   "metadata": {},
   "outputs": [],
   "source": [
    "input_string = 'Expert Response: hello world Expert Response: markitdown!'\n",
    "separator = 'Expert Response: '\n",
    "\n",
    "print(input_string.rpartition(separator))\n"
   ]
  },
  {
   "cell_type": "code",
   "execution_count": null,
   "metadata": {},
   "outputs": [],
   "source": [
    "s = 's'\n",
    "q = 'q'\n",
    "\n",
    "if s and q:\n",
    "    print('s')"
   ]
  },
  {
   "cell_type": "code",
   "execution_count": null,
   "metadata": {},
   "outputs": [],
   "source": []
  }
 ],
 "metadata": {
  "kernelspec": {
   "display_name": "tinybox",
   "language": "python",
   "name": "python3"
  },
  "language_info": {
   "codemirror_mode": {
    "name": "ipython",
    "version": 3
   },
   "file_extension": ".py",
   "mimetype": "text/x-python",
   "name": "python",
   "nbconvert_exporter": "python",
   "pygments_lexer": "ipython3",
   "version": "3.12.4"
  }
 },
 "nbformat": 4,
 "nbformat_minor": 2
}
